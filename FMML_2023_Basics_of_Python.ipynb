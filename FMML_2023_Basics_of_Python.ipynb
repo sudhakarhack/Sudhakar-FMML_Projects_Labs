{
  "nbformat": 4,
  "nbformat_minor": 0,
  "metadata": {
    "colab": {
      "provenance": [],
      "include_colab_link": true
    },
    "kernelspec": {
      "name": "python3",
      "display_name": "Python 3"
    },
    "language_info": {
      "name": "python"
    }
  },
  "cells": [
    {
      "cell_type": "markdown",
      "metadata": {
        "id": "view-in-github",
        "colab_type": "text"
      },
      "source": [
        "<a href=\"https://colab.research.google.com/github/sudhakarhack/Sudhakar-FMML_Projects_Labs/blob/main/FMML_2023_Basics_of_Python.ipynb\" target=\"_parent\"><img src=\"https://colab.research.google.com/assets/colab-badge.svg\" alt=\"Open In Colab\"/></a>"
      ]
    },
    {
      "cell_type": "markdown",
      "source": [
        "# Getting Started\n",
        "\n",
        "FMML Module 1, Lab 1 <br>\n",
        " Module Coordinator: Amit Pandey ( amit.pandey@research.iiit.ac.in ) <br>\n",
        " Release date: Aug 2022 <br>\n",
        "\n"
      ],
      "metadata": {
        "id": "TMVRKfbpTAeR"
      }
    },
    {
      "cell_type": "markdown",
      "source": [
        "### In this notebook we will be covering the very basics of Python and some basic libraries such as Numpy, Matplotlib and Nltk.\n",
        "#### It is suggested that you go through each line and try some examples."
      ],
      "metadata": {
        "id": "F-XjWYLBTI0f"
      }
    },
    {
      "cell_type": "markdown",
      "source": [
        "#### Section 1 - Python : Basic data types and indexing."
      ],
      "metadata": {
        "id": "wEyEnIhnTdhB"
      }
    },
    {
      "cell_type": "code",
      "source": [
        "## Strings\n",
        "'''\n",
        "A string is a collection of one or more characters put in a single quote,\n",
        " double-quote or triple quote. In python there is no character data type,\n",
        " a character is a string of length one. It is represented by str class.\n",
        "\n",
        "String can have special characters. String can be indexed\n",
        "\n",
        "'''\n",
        "\n",
        "\n",
        "name = 'First Lab'\n",
        "name_extended = name + 'Module 1'\n",
        "last_element_string = name[-1] # -1 in python is index of the last element.\n",
        "## indexing is important for preprocessing of the raw data."
      ],
      "metadata": {
        "id": "AzguFJmTQIqt"
      },
      "execution_count": 1,
      "outputs": []
    },
    {
      "cell_type": "code",
      "source": [
        "print(name ,\"\\n\", name_extended, \"\\n\", last_element_string)"
      ],
      "metadata": {
        "colab": {
          "base_uri": "https://localhost:8080/"
        },
        "id": "DPokcpuLQO6s",
        "outputId": "bc6047ea-a5b4-4a73-f00e-6cad65f09c24"
      },
      "execution_count": 2,
      "outputs": [
        {
          "output_type": "stream",
          "name": "stdout",
          "text": [
            "First Lab \n",
            " First LabModule 1 \n",
            " b\n"
          ]
        }
      ]
    },
    {
      "cell_type": "code",
      "source": [
        "## List\n",
        "\n",
        "'''\n",
        "Lists are ordered collection of data, and are very similar to arrays,\n",
        "It is very flexible as the items in a list do not need to be of the same type.\n",
        "'''\n",
        "\n",
        "name_list = ['First Lab', 3 , '1.1' , 'Lab 1'] ## notice elements are of different data type.\n",
        "name_list.extend(['Module 1']) ## adding elements to list (Read about append method as well).\n",
        "element_2 = name_list[1] ## Just like other languages, the index starts from 0.\n",
        "two_dimesional_list = [[1,2],[3,4]] ## practice with multi-dimensional lists and arrays\n",
        "## you would soon be required to handle 4 dimensional data :p :)\n",
        "name_list[2] = '1.111' ##list elements can be changed"
      ],
      "metadata": {
        "id": "g7WZtwkpE2tO"
      },
      "execution_count": 3,
      "outputs": []
    },
    {
      "cell_type": "code",
      "source": [
        "print(name_list)\n",
        "print(element_2)\n",
        "print(two_dimesional_list)\n",
        "## list can have list, dictionary, string etc."
      ],
      "metadata": {
        "colab": {
          "base_uri": "https://localhost:8080/"
        },
        "id": "vblBrQflE9Cs",
        "outputId": "3b17c93d-d215-42ed-ca9d-694a775cb916"
      },
      "execution_count": 4,
      "outputs": [
        {
          "output_type": "stream",
          "name": "stdout",
          "text": [
            "['First Lab', 3, '1.111', 'Lab 1', 'Module 1']\n",
            "3\n",
            "[[1, 2], [3, 4]]\n"
          ]
        }
      ]
    },
    {
      "cell_type": "code",
      "source": [
        "## Tuples\n",
        "\n",
        "name_tuple = ('First Lab', 1, (2,3),[1,1,'list having string']) ## A tuple can have a tuple.\n",
        "\n",
        "print(name_tuple[2])\n",
        "print(\"first indexing the last element of the tuple, which is a list and \\n then last element of the list (a string) and then second last element of the string:\")\n",
        "print(name_tuple[-1][-1][-2])\n"
      ],
      "metadata": {
        "colab": {
          "base_uri": "https://localhost:8080/"
        },
        "id": "x5eOXNK5FtlF",
        "outputId": "f0afb2f0-c52c-4f09-bac3-662557268021"
      },
      "execution_count": 5,
      "outputs": [
        {
          "output_type": "stream",
          "name": "stdout",
          "text": [
            "(2, 3)\n",
            "first indexing the last element of the tuple, which is a list and \n",
            " then last element of the list (a string) and then second last element of the string:\n",
            "n\n"
          ]
        }
      ]
    },
    {
      "cell_type": "code",
      "source": [
        "## tuples are immutable, read the error !\n",
        " #usued when passing parameters etc. and dont want them to be changed\n",
        "\n",
        "name_tuple"
      ],
      "metadata": {
        "colab": {
          "base_uri": "https://localhost:8080/"
        },
        "id": "m92Oab8YRha1",
        "outputId": "074261bd-b68e-443e-e01f-79b03a69f928"
      },
      "execution_count": 6,
      "outputs": [
        {
          "output_type": "execute_result",
          "data": {
            "text/plain": [
              "('First Lab', 1, (2, 3), [1, 1, 'list having string'])"
            ]
          },
          "metadata": {},
          "execution_count": 6
        }
      ]
    },
    {
      "cell_type": "code",
      "source": [
        "## Sets\n",
        "'''a Set is an unordered collection of data types that is iterable, mutable and has no duplicate elements.\n",
        "The order of elements in a set is undefined though it may consist of various elements.\n",
        "The major advantage of using a set, as opposed to a list,\n",
        " is that it has a highly optimized method for checking whether a specific element is contained in the set.\n",
        "'''\n",
        "set_unique = set([1,1,2,3,5,6,'Lab1'])\n",
        "print(set_unique) ##notice it is unordered\n",
        "last_el = set_unique.pop()\n",
        "set_unique.add((1,2))\n",
        "\n",
        "\n",
        "print(last_el)\n",
        "print(set_unique)\n",
        "\n",
        "\n",
        "\n",
        "\n"
      ],
      "metadata": {
        "id": "MfkMO0mlTcep",
        "colab": {
          "base_uri": "https://localhost:8080/"
        },
        "outputId": "3db6fb60-e010-4827-8d75-9aff08dd4273"
      },
      "execution_count": 7,
      "outputs": [
        {
          "output_type": "stream",
          "name": "stdout",
          "text": [
            "{1, 2, 3, 5, 6, 'Lab1'}\n",
            "1\n",
            "{2, 3, (1, 2), 5, 6, 'Lab1'}\n"
          ]
        }
      ]
    },
    {
      "cell_type": "code",
      "source": [
        "set_unique[1] ##it is not indexable"
      ],
      "metadata": {
        "colab": {
          "base_uri": "https://localhost:8080/",
          "height": 141
        },
        "id": "QgHlNSRPampd",
        "outputId": "b48784db-b49e-4538-bb7b-08f12731f41c"
      },
      "execution_count": 8,
      "outputs": [
        {
          "output_type": "error",
          "ename": "TypeError",
          "evalue": "'set' object is not subscriptable",
          "traceback": [
            "\u001b[0;31m---------------------------------------------------------------------------\u001b[0m",
            "\u001b[0;31mTypeError\u001b[0m                                 Traceback (most recent call last)",
            "\u001b[0;32m<ipython-input-8-5ad74dbd06c6>\u001b[0m in \u001b[0;36m<cell line: 1>\u001b[0;34m()\u001b[0m\n\u001b[0;32m----> 1\u001b[0;31m \u001b[0mset_unique\u001b[0m\u001b[0;34m[\u001b[0m\u001b[0;36m1\u001b[0m\u001b[0;34m]\u001b[0m \u001b[0;31m##it is not indexable\u001b[0m\u001b[0;34m\u001b[0m\u001b[0;34m\u001b[0m\u001b[0m\n\u001b[0m",
            "\u001b[0;31mTypeError\u001b[0m: 'set' object is not subscriptable"
          ]
        }
      ]
    },
    {
      "cell_type": "code",
      "source": [
        "## Dictionary\n",
        "'''\n",
        "Dictionary in Python is an unordered collection of data values, used to store data values like a map,\n",
        " which, unlike other data types which hold only a single value as an element.\n",
        "'''\n",
        "\n",
        "dic = {'1': 'A','2':'B', 'C':3 } ##Observe how key and values can be anything\n",
        "dic['4'] ='New'\n",
        "print(dic)"
      ],
      "metadata": {
        "id": "rxhE3hYtZxVb"
      },
      "execution_count": null,
      "outputs": []
    },
    {
      "cell_type": "markdown",
      "source": [
        "#### Question 0:\n",
        "###### write down 3-5 methods applicable to each data type. (Hint: extend, reverse, etc."
      ],
      "metadata": {
        "id": "hizs_paeceA5"
      }
    },
    {
      "cell_type": "markdown",
      "source": [
        "Certainly! Here are 3-5 methods applicable to some common data types in Python:\n",
        "\n",
        "*For Lists:*\n",
        "\n",
        "1. `append()`: Adds an element to the end of the list.\n",
        "2. `extend()`: Appends elements from an iterable (e.g., another list) to the end of the list.\n",
        "3. `reverse()`: Reverses the order of elements in the list.\n",
        "4. `sort()`: Sorts the elements of the list in ascending order (in-place).\n",
        "5. `pop()`: Removes and returns the last element of the list.\n",
        "\n",
        "*For Strings:*\n",
        "\n",
        "1. `upper()`: Converts all characters in the string to uppercase.\n",
        "2. `lower()`: Converts all characters in the string to lowercase.\n",
        "3. `replace()`: Replaces occurrences of a specified substring with another substring.\n",
        "4. `split()`: Splits the string into a list of substrings based on a delimiter.\n",
        "5. `find()`: Returns the index of the first occurrence of a substring within the string.\n",
        "\n",
        "*For Dictionaries:*\n",
        "\n",
        "1. `keys()`: Returns a list of all keys in the dictionary.\n",
        "2. `values()`: Returns a list of all values in the dictionary.\n",
        "3. `items()`: Returns a list of key-value pairs (tuples) as (key, value) pairs.\n",
        "4. `get()`: Retrieves the value associated with a given key, or a default value if the key is not found.\n",
        "5. `pop()`: Removes and returns the value associated with a given key.\n",
        "\n",
        "*For Sets:*\n",
        "\n",
        "1. `add()`: Adds an element to the set.\n",
        "2. `remove()`: Removes a specified element from the set (raises an error if the element is not found).\n",
        "3. `discard()`: Removes a specified element from the set (does not raise an error if the element is not found).\n",
        "4. `union()`: Returns a new set containing all unique elements from two sets.\n",
        "5. `intersection()`: Returns a new set containing elements that are common to two sets.\n",
        "\n",
        "These are just some of the methods available for these data types in Python. There are many more methods and functions that can be used depending on your specific use case."
      ],
      "metadata": {
        "id": "3tsHtuPGiVG5"
      }
    },
    {
      "cell_type": "markdown",
      "source": [
        "## Section 2 - Functions\n",
        "### a group of related statements that performs a specific task."
      ],
      "metadata": {
        "id": "tub_Skp3X1cN"
      }
    },
    {
      "cell_type": "code",
      "source": [
        "def add_new(a:str, b): ## a and b are the arguments that are passed. to provide data type hint\n",
        "                              # def add_new(x: float, y: float) -> float:\n",
        "  sum = a + b\n",
        "  return sum\n",
        "\n",
        "ans = add_new(1,2) ## intentionally written str, and passed int, to show it doesn't matter. It is just hint\n",
        "print(ans)"
      ],
      "metadata": {
        "id": "K-6Q5T8nX_YF"
      },
      "execution_count": null,
      "outputs": []
    },
    {
      "cell_type": "code",
      "source": [
        "asn = add_new(1,2)"
      ],
      "metadata": {
        "id": "aVLU3Bpu0YJV"
      },
      "execution_count": null,
      "outputs": []
    },
    {
      "cell_type": "code",
      "source": [
        "def check_even_list(num_list):\n",
        "\n",
        "    even_numbers = []\n",
        "\n",
        "    # Go through each number\n",
        "    for number in num_list:\n",
        "        # Once we get a \"hit\" on an even number, we append the even number\n",
        "        if number % 2 == 0:\n",
        "            even_numbers.append(number)\n",
        "        # Don't do anything if its not even\n",
        "        else:\n",
        "            pass\n",
        "    # Notice the indentation! This ensures we run through the entire for loop\n",
        "    return even_numbers"
      ],
      "metadata": {
        "id": "aRa47XCsZLsh"
      },
      "execution_count": null,
      "outputs": []
    },
    {
      "cell_type": "markdown",
      "source": [
        "#### Question 1 :\n",
        "\n",
        "##### Define a function, which takes in two strings A and B. Reverses the first string A, adds it to B, and returns the final string.\n",
        "\n",
        "\n",
        "#### Question 2 :\n",
        "##### Given a list having Names, work_hours, and gender, Write a function to print name of the female worker that worked the most hours. Also how much do should she be paid if the pay is $ 20 per hour.\n",
        "\n",
        "##### work_hours = [('Abby',100 , 'F'),('Billy',400, 'M'),('Cassie',800,'F'), ('Maggi',600,'F'),('Alex',500,'M'),('Raj',225,'M'),('Penny',920,'F'),('Ben',300,'M')]\n",
        "\n",
        "##### Answer : the female worker that worked the most hours is Penny and she should be paid 18400"
      ],
      "metadata": {
        "id": "heD0_u4D01jp"
      }
    },
    {
      "cell_type": "code",
      "source": [
        "# @title Q.1 Define a function, which takes in two strings A and B. Reverses the first string A, adds it to B, and returns the final string\n",
        "def strings(A,B):\n",
        "\n",
        "  A=list('Madhava')\n",
        "  A.reverse()\n",
        "  x=\"\"\n",
        "  for i in A:\n",
        "    x=x+i\n",
        "  c=x+B\n",
        "  return(c)\n",
        "A=input(\"Enter the first string:-\")\n",
        "B=input(\"Enter the second string \")\n",
        "z=strings(A,B)\n",
        "print(z)"
      ],
      "metadata": {
        "id": "U3EPmUzsikvc"
      },
      "execution_count": null,
      "outputs": []
    },
    {
      "cell_type": "code",
      "source": [
        "# @title Question 2\n",
        "def a(b):\n",
        "    max_hours = 0\n",
        "    highest_female_worker = None\n",
        "\n",
        "    for name, hours, gender in work_hours:\n",
        "        if gender == 'F' and hours > max_hours:\n",
        "            max_hours = hours\n",
        "            highest_female_worker = name\n",
        "\n",
        "    if highest_female_worker:\n",
        "        pay = max_hours * 20\n",
        "        print(f\"The female worker that worked the most hours is {highest_female_worker} and she should be paid {pay}\")\n",
        "    else:\n",
        "        print(\"No female workers found in the list.\")\n",
        "work_hours = [('Abby', 100, 'F'), ('Billy', 400, 'M'), ('Cassie', 800, 'F'), ('Maggi', 600, 'F'), ('Alex', 500, 'M'), ('Raj', 225, 'M'), ('Penny', 920, 'F'), ('Ben', 300, 'M')]\n",
        "a(work_hours)"
      ],
      "metadata": {
        "id": "cPy8YZJbizMk"
      },
      "execution_count": null,
      "outputs": []
    },
    {
      "cell_type": "markdown",
      "source": [
        "#### Section 3 - Libraries and Reading data."
      ],
      "metadata": {
        "id": "T9fGzOAKXhtt"
      }
    },
    {
      "cell_type": "markdown",
      "source": [
        "##### Numpy - One of the most used libraries - supports for large, multi-dimensional arrays and matrices, along with a large collection of high-level mathematical functions to operate on these arrays."
      ],
      "metadata": {
        "id": "TKVyOsBKYZXa"
      }
    },
    {
      "cell_type": "code",
      "source": [
        "import numpy as np"
      ],
      "metadata": {
        "id": "_ODaZ44RXkyg"
      },
      "execution_count": null,
      "outputs": []
    },
    {
      "cell_type": "code",
      "source": [
        "\n",
        "a = np.array([1,1,2,3,4,5,5,6,1]) ## np.array converts given list to array\n",
        "\n",
        "b = a>1 ## important comparison operation, where frequently used in manipulation and image processing.\n",
        "\n",
        "print(b)\n",
        "print(a[b]) ## [printing only those values in a which are greater than 1]\n"
      ],
      "metadata": {
        "id": "29vs7Iicavlg"
      },
      "execution_count": null,
      "outputs": []
    },
    {
      "cell_type": "code",
      "source": [
        "a_range = np.arange(10,19).reshape(3,3) ## create a 3x3 array with values in range 10-19\n",
        "a_range\n"
      ],
      "metadata": {
        "id": "MAGJJ1K_jCHN"
      },
      "execution_count": null,
      "outputs": []
    },
    {
      "cell_type": "code",
      "source": [
        "## Indexing in arrays works same as that of list\n",
        "\n",
        "a_range[0] # printing all the columns of first row"
      ],
      "metadata": {
        "id": "BpNpo-eDt9Fr"
      },
      "execution_count": null,
      "outputs": []
    },
    {
      "cell_type": "code",
      "source": [
        "a_range[:,2] #printing all the rows of second column"
      ],
      "metadata": {
        "id": "HbDG7M3QuCDQ"
      },
      "execution_count": null,
      "outputs": []
    },
    {
      "cell_type": "code",
      "source": [
        "iden = np.eye(3) #idnetity matrix of given size\n",
        "iden"
      ],
      "metadata": {
        "id": "RQ7UV_-fjJw3"
      },
      "execution_count": null,
      "outputs": []
    },
    {
      "cell_type": "code",
      "source": [
        "## adding two matrices\n",
        "summed = a_range + iden\n",
        "summed\n"
      ],
      "metadata": {
        "id": "hYJXXvnwjPfE"
      },
      "execution_count": null,
      "outputs": []
    },
    {
      "cell_type": "code",
      "source": [
        "### arrays support normal matrix multiplication that you are used to, point-wise multiplication\n",
        "### and dot product as well.\n",
        "\n",
        "mul = a_range@iden ## normal multiplication\n",
        "mul\n"
      ],
      "metadata": {
        "id": "VoyeEptRjYRu"
      },
      "execution_count": null,
      "outputs": []
    },
    {
      "cell_type": "code",
      "source": [
        "## point wise multiplication\n",
        "p_mul = a_range * iden\n",
        "p_mul"
      ],
      "metadata": {
        "id": "58S3a_YmtAe8"
      },
      "execution_count": null,
      "outputs": []
    },
    {
      "cell_type": "code",
      "source": [
        "## Transpose of a matrix.\n",
        "\n",
        "mtx_t = mul.T\n",
        "mtx_t\n"
      ],
      "metadata": {
        "id": "HC5uJ03ftJHA"
      },
      "execution_count": null,
      "outputs": []
    },
    {
      "cell_type": "code",
      "source": [
        "### Here we are changing the values of last row of the transposed matrix.\n",
        "### basically point wise multiplying the values of last row with 1,2 and 3\n",
        "\n",
        "mtx_t[2] = mtx_t[2]*[1,2,3] ## indexing, point wise multiplication and mutation of values\n",
        "mtx_t"
      ],
      "metadata": {
        "id": "ROFhfs2lutat"
      },
      "execution_count": null,
      "outputs": []
    },
    {
      "cell_type": "code",
      "source": [
        "## Just like the greater than 1 (a>1) example we saw earlier.\n",
        "## here we are checking if the elements are divisible by 2 (%), and if they are, then replace by 0.\n",
        "\n",
        "mtx_t[(mtx_t % 2 == 0)] = 0 ## convert even elements of the matrix to zero.\n",
        "mtx_t"
      ],
      "metadata": {
        "id": "Mh80ju2xvAqL"
      },
      "execution_count": null,
      "outputs": []
    },
    {
      "cell_type": "markdown",
      "source": [
        "#### Question 3 :\n",
        "\n",
        "##### a)Create a 5x5 matrix of the following form,\n",
        "\n",
        "##### [[1,1]\n",
        "#####  [2,2]]\n",
        "\n",
        "#####  i.e. each row is increasing and has repetive elements.\n",
        "\n",
        "######  Hint : you can use hstack, vstack  etc.\n",
        "\n",
        "##### b) find dot product of the matrix with any matrix. (Figure out the size/ shape of the matrix)"
      ],
      "metadata": {
        "id": "uqWUH6Rv4OhT"
      }
    },
    {
      "cell_type": "code",
      "source": [
        "# @title Create a 5x5 matrix of the following form,\n",
        "import numpy as np\n",
        "a=np.arange(1,26).reshape(5,5)\n",
        "print(a)"
      ],
      "metadata": {
        "id": "Ahqap5X9jTA1"
      },
      "execution_count": null,
      "outputs": []
    },
    {
      "cell_type": "code",
      "source": [
        "# @title Find dot product of the matrix with any matrix\n",
        "import numpy as np\n",
        "a=np.arange(1,26).reshape(5,5)\n",
        "b=np.arange(26,51).reshape(5,5)\n",
        "print(a*b)"
      ],
      "metadata": {
        "id": "DfKbCVVkjYtY"
      },
      "execution_count": null,
      "outputs": []
    },
    {
      "cell_type": "markdown",
      "source": [
        "#### Reading Files"
      ],
      "metadata": {
        "id": "GzNoCosKdVa2"
      }
    },
    {
      "cell_type": "code",
      "source": [
        "## loading from the google drive\n",
        "from google.colab import drive\n",
        "drive.mount('/content/gdrive')"
      ],
      "metadata": {
        "id": "_wCHdrtQwDJe"
      },
      "execution_count": null,
      "outputs": []
    },
    {
      "cell_type": "code",
      "source": [
        "with open ('/content/sample_data/README.md', 'r') as f:\n",
        "  a = f.readlines()\n",
        "\n",
        "a ## here a is list of elements/strings each splitted at \\n, \\n is also part of the list element.\n"
      ],
      "metadata": {
        "id": "c1rzXSJobLku"
      },
      "execution_count": null,
      "outputs": []
    },
    {
      "cell_type": "code",
      "source": [
        "import pandas as pd\n",
        "\n",
        "df = pd.read_csv('/content/sample_data/california_housing_test.csv','r')\n",
        "df.head(10) ## pass as argument number of top elements you wish to print. Head is used to have a quick glance and understand the data."
      ],
      "metadata": {
        "id": "CgXsQFpobVGk"
      },
      "execution_count": null,
      "outputs": []
    },
    {
      "cell_type": "code",
      "source": [
        "len(df.columns), df.columns"
      ],
      "metadata": {
        "id": "iMMaPe3gduKb"
      },
      "execution_count": null,
      "outputs": []
    },
    {
      "cell_type": "code",
      "source": [
        "df.columns[0]"
      ],
      "metadata": {
        "id": "GT1dA9Q3eRQU"
      },
      "execution_count": null,
      "outputs": []
    },
    {
      "cell_type": "code",
      "source": [
        "df['longitude,\"latitude\",\"housing_median_age\",\"total_'][:5]"
      ],
      "metadata": {
        "id": "oEZhq9rBe-Hb"
      },
      "execution_count": null,
      "outputs": []
    },
    {
      "cell_type": "code",
      "source": [
        "df = df.rename(columns = {'longitude,\"latitude\",\"housing_median_age\",\"total_':'Detail1'}) ##rename column names as at times it makes it easier for us"
      ],
      "metadata": {
        "id": "-hpbslfWfwy3"
      },
      "execution_count": null,
      "outputs": []
    },
    {
      "cell_type": "code",
      "source": [
        "df.head(3)"
      ],
      "metadata": {
        "id": "C0gpXPf1hN5Q"
      },
      "execution_count": null,
      "outputs": []
    },
    {
      "cell_type": "code",
      "source": [
        "df.iloc[:5, 0]  ##iloc - index - 0 to 4 rows and first column only."
      ],
      "metadata": {
        "id": "A0FFUn-ghP1n"
      },
      "execution_count": null,
      "outputs": []
    },
    {
      "cell_type": "code",
      "source": [
        "import matplotlib\n",
        "from matplotlib import pyplot as plt"
      ],
      "metadata": {
        "id": "oJ7JrZqWioIO"
      },
      "execution_count": null,
      "outputs": []
    },
    {
      "cell_type": "code",
      "source": [
        "xpoints = np.array([1, 8])\n",
        "ypoints = np.array([3, 10])\n",
        "\n",
        "plt.plot(xpoints, ypoints)\n",
        "plt.show()"
      ],
      "metadata": {
        "id": "tzunFbpUxKAP"
      },
      "execution_count": null,
      "outputs": []
    },
    {
      "cell_type": "code",
      "source": [
        "xpoints = np.array([1, 2, 6, 8])\n",
        "ypoints = np.array([3, 8, 1, 10])\n",
        "\n",
        "plt.plot(xpoints, ypoints)\n",
        "plt.show()"
      ],
      "metadata": {
        "id": "p7l83i5SxW4k"
      },
      "execution_count": null,
      "outputs": []
    },
    {
      "cell_type": "markdown",
      "source": [
        "## Creating a dataframe.\n",
        "#### Task: Study about other methods of creating dataframe (for example: using Pandas Series, Lists etc.)"
      ],
      "metadata": {
        "id": "GT6yXu7l1gtL"
      }
    },
    {
      "cell_type": "code",
      "source": [
        "import pandas as pd\n",
        "import numpy as np"
      ],
      "metadata": {
        "id": "1vR1hTJ51ckl"
      },
      "execution_count": null,
      "outputs": []
    },
    {
      "cell_type": "code",
      "source": [
        "values = np.arange(16).reshape(4,4)\n",
        "values"
      ],
      "metadata": {
        "id": "o0W0z3Fr1gOb"
      },
      "execution_count": null,
      "outputs": []
    },
    {
      "cell_type": "code",
      "source": [
        "dataframe_from_array = pd.DataFrame(values, index = ['a','b','c','d'], columns=['w','x','y','z'] )\n",
        "dataframe_from_array"
      ],
      "metadata": {
        "id": "_p5vKhPN2Bey"
      },
      "execution_count": null,
      "outputs": []
    },
    {
      "cell_type": "code",
      "source": [
        "dataframe_from_array.loc[['a','b'],['w','x']]"
      ],
      "metadata": {
        "id": "jdIORDyX2h-Z"
      },
      "execution_count": null,
      "outputs": []
    },
    {
      "cell_type": "code",
      "source": [
        "dataframe_from_array.loc['a'] ## it needs position as integer"
      ],
      "metadata": {
        "id": "iPTlROGv2r7M"
      },
      "execution_count": null,
      "outputs": []
    },
    {
      "cell_type": "code",
      "source": [
        "dataframe_from_array.iloc[1,3] #second row and last column"
      ],
      "metadata": {
        "id": "PI4cRSO526jo"
      },
      "execution_count": null,
      "outputs": []
    },
    {
      "cell_type": "code",
      "source": [
        "dataframe_from_array.iloc[::2,::2]"
      ],
      "metadata": {
        "id": "-BpY8Prl3GQX"
      },
      "execution_count": null,
      "outputs": []
    },
    {
      "cell_type": "code",
      "source": [
        "\n",
        "import numpy as np\n",
        "from matplotlib import pyplot as plt\n",
        "\n",
        "ys = 200 + np.random.randn(100)\n",
        "x = [x for x in range(len(ys))]\n",
        "\n",
        "plt.plot(x, ys, '-')\n",
        "plt.fill_between(x, ys, 195, where=(ys > 200), facecolor='g', alpha=0.6)\n",
        "\n",
        "plt.title(\"Sample Visualization\")\n",
        "plt.show()"
      ],
      "metadata": {
        "id": "fqzrScL-GrZU"
      },
      "execution_count": null,
      "outputs": []
    },
    {
      "cell_type": "code",
      "source": [
        "## Question 3 : Upload an image to your google drive, Use plt.imread to read image from the google drive and then print that image using plt.imshow\n",
        "\n",
        "\n",
        "## Answer 3 :\n",
        "\n",
        "## 1) make sure drive is loaded and then upload a test image onto your drive\n",
        "from google.colab import drive\n",
        "drive.mount('/content/drive')\n",
        "import matplotlib.pyplot as plt\n",
        "from skimage.transform import rotate\n",
        "x=plt.imread(\"/content/drive/MyDrive/Screenshot_20230802_133444.jpg\")\n",
        "plt.title(\"Normal image\")\n",
        "plt.imshow(x)\n"
      ],
      "metadata": {
        "id": "mC8rNbeKxiaF"
      },
      "execution_count": null,
      "outputs": []
    }
  ]
}